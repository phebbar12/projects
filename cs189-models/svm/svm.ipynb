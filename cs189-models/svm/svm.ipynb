{
 "cells": [
  {
   "cell_type": "code",
   "execution_count": 3,
   "id": "f3c21e8d-c55b-49e3-846b-416fd329747a",
   "metadata": {},
   "outputs": [
    {
     "ename": "FileNotFoundError",
     "evalue": "[Errno 2] No such file or directory: './data/mnist-data.npz'",
     "output_type": "error",
     "traceback": [
      "\u001b[0;31m---------------------------------------------------------------------------\u001b[0m",
      "\u001b[0;31mFileNotFoundError\u001b[0m                         Traceback (most recent call last)",
      "\u001b[0;32m/var/folders/3y/mmgj76q10bnb3vvxyvns_dmc0000gn/T/ipykernel_98627/753529280.py\u001b[0m in \u001b[0;36m<module>\u001b[0;34m\u001b[0m\n\u001b[1;32m      7\u001b[0m \u001b[0;34m\u001b[0m\u001b[0m\n\u001b[1;32m      8\u001b[0m \u001b[0;31m#Load data\u001b[0m\u001b[0;34m\u001b[0m\u001b[0;34m\u001b[0m\u001b[0m\n\u001b[0;32m----> 9\u001b[0;31m \u001b[0mmnist_data\u001b[0m \u001b[0;34m=\u001b[0m \u001b[0mnp\u001b[0m\u001b[0;34m.\u001b[0m\u001b[0mload\u001b[0m\u001b[0;34m(\u001b[0m\u001b[0;34mf\"./data/mnist-data.npz\"\u001b[0m\u001b[0;34m)\u001b[0m\u001b[0;34m\u001b[0m\u001b[0;34m\u001b[0m\u001b[0m\n\u001b[0m\u001b[1;32m     10\u001b[0m \u001b[0mmnist_training_data\u001b[0m \u001b[0;34m=\u001b[0m \u001b[0mmnist_data\u001b[0m\u001b[0;34m[\u001b[0m\u001b[0;34m\"training_data\"\u001b[0m\u001b[0;34m]\u001b[0m\u001b[0;34m\u001b[0m\u001b[0;34m\u001b[0m\u001b[0m\n\u001b[1;32m     11\u001b[0m \u001b[0mmnist_training_labels\u001b[0m \u001b[0;34m=\u001b[0m \u001b[0mmnist_data\u001b[0m\u001b[0;34m[\u001b[0m\u001b[0;34m\"training_labels\"\u001b[0m\u001b[0;34m]\u001b[0m\u001b[0;34m\u001b[0m\u001b[0;34m\u001b[0m\u001b[0m\n",
      "\u001b[0;32m~/opt/anaconda3/lib/python3.9/site-packages/numpy/lib/npyio.py\u001b[0m in \u001b[0;36mload\u001b[0;34m(file, mmap_mode, allow_pickle, fix_imports, encoding)\u001b[0m\n\u001b[1;32m    415\u001b[0m             \u001b[0mown_fid\u001b[0m \u001b[0;34m=\u001b[0m \u001b[0;32mFalse\u001b[0m\u001b[0;34m\u001b[0m\u001b[0;34m\u001b[0m\u001b[0m\n\u001b[1;32m    416\u001b[0m         \u001b[0;32melse\u001b[0m\u001b[0;34m:\u001b[0m\u001b[0;34m\u001b[0m\u001b[0;34m\u001b[0m\u001b[0m\n\u001b[0;32m--> 417\u001b[0;31m             \u001b[0mfid\u001b[0m \u001b[0;34m=\u001b[0m \u001b[0mstack\u001b[0m\u001b[0;34m.\u001b[0m\u001b[0menter_context\u001b[0m\u001b[0;34m(\u001b[0m\u001b[0mopen\u001b[0m\u001b[0;34m(\u001b[0m\u001b[0mos_fspath\u001b[0m\u001b[0;34m(\u001b[0m\u001b[0mfile\u001b[0m\u001b[0;34m)\u001b[0m\u001b[0;34m,\u001b[0m \u001b[0;34m\"rb\"\u001b[0m\u001b[0;34m)\u001b[0m\u001b[0;34m)\u001b[0m\u001b[0;34m\u001b[0m\u001b[0;34m\u001b[0m\u001b[0m\n\u001b[0m\u001b[1;32m    418\u001b[0m             \u001b[0mown_fid\u001b[0m \u001b[0;34m=\u001b[0m \u001b[0;32mTrue\u001b[0m\u001b[0;34m\u001b[0m\u001b[0;34m\u001b[0m\u001b[0m\n\u001b[1;32m    419\u001b[0m \u001b[0;34m\u001b[0m\u001b[0m\n",
      "\u001b[0;31mFileNotFoundError\u001b[0m: [Errno 2] No such file or directory: './data/mnist-data.npz'"
     ]
    }
   ],
   "source": [
    "import numpy as np\n",
    "import matplotlib.pyplot as plt\n",
    "from sklearn import svm\n",
    "from sklearn import metrics\n",
    "import pandas as pd\n",
    "from scipy import io\n",
    "\n",
    "#Load data\n",
    "mnist_data = np.load(f\"./data/mnist-data.npz\")\n",
    "mnist_training_data = mnist_data[\"training_data\"]\n",
    "mnist_training_labels = mnist_data[\"training_labels\"]\n",
    "mnist_test_data = mnist_data[\"test_data\"]\n",
    "mnist_test_data_flattened = [0] * len(mnist_test_data)\n",
    "\n",
    "for x in range(len(mnist_test_data)):\n",
    "    mnist_test_data_flattened[x] = mnist_test_data[x].flatten()\n",
    "\n",
    "spam_data = np.load(f\"./data/spam-data.npz\")\n",
    "\n",
    "spam_training_data = spam_data[\"training_data\"]\n",
    "spam_training_labels = spam_data[\"training_labels\"]\n",
    "spam_test_data = spam_data[\"test_data\"]\n",
    "spam_test_data_flattened = [0] * len(spam_test_data)\n",
    "\n",
    "for x in range(len(spam_test_data)):\n",
    "    spam_test_data_flattened[x] = spam_test_data[x].flatten()\n",
    "\n",
    "cifar_data = np.load(f\"./data/cifar10-data.npz\")\n",
    "cifar_training_data = cifar_data[\"training_data\"]\n",
    "cifar_training_labels = cifar_data[\"training_labels\"]\n",
    "cifar_test_data = cifar_data[\"test_data\"]\n",
    "cifar_test_data_flattened = [0] * len(cifar_test_data)\n",
    "\n",
    "for x in range(len(cifar_test_data)):\n",
    "    cifar_test_data_flattened[x] = cifar_test_data[x].flatten()\n",
    "\n",
    "\n",
    "#Shuffle and Partition\n",
    "shuffled_index = np.arange(len(mnist_training_data))\n",
    "np.random.shuffle(shuffled_index)\n",
    "\n",
    "mnist_shuffled_data = [0] * 60000\n",
    "mnist_shuffled_labels = [0] * 60000\n",
    "\n",
    "for x in range(60000):\n",
    "    y = shuffled_index[x]\n",
    "    mnist_shuffled_data[x] = mnist_training_data[y].flatten()\n",
    "    mnist_shuffled_labels[x] = mnist_training_labels[y]\n",
    "\n",
    "mnist_validation_data = mnist_shuffled_data[:10000]\n",
    "mnist_validation_labels = mnist_shuffled_labels[:10000]\n",
    "mnist_shuffled_data = mnist_shuffled_data[10000:] \n",
    "mnist_shuffled_labels = mnist_shuffled_labels[10000:] \n",
    "\n",
    "train_nums = [100, 200, 500, 1000, 2000, 5000, 10000]\n",
    "accuracy_nums = [0, 0, 0, 0, 0, 0, 0]\n",
    "accuracy = [0, 0, 0, 0, 0, 0, 0]\n",
    "\n",
    "shuffled_index = np.arange(len(spam_training_data))\n",
    "np.random.shuffle(shuffled_index)\n",
    "\n",
    "size = len(spam_training_data)\n",
    "validation_size = int(size * .20)\n",
    "\n",
    "spam_shuffled_data = [0] * size\n",
    "spam_shuffled_labels = [0] * size\n",
    "\n",
    "for x in range(size):\n",
    "    y = shuffled_index[x]\n",
    "    spam_shuffled_data[x] = spam_training_data[y].flatten()\n",
    "    spam_shuffled_labels[x] = spam_training_labels[y]\n",
    "\n",
    "spam_validation_data = spam_shuffled_data[:validation_size]\n",
    "spam_validation_labels = spam_shuffled_labels[:validation_size]\n",
    "spam_shuffled_data = spam_shuffled_data[validation_size:] \n",
    "spam_shuffled_labels = spam_shuffled_labels[validation_size:] \n",
    "\n",
    "train_nums1 = [100, 200, 500, 1000, 2000, size]\n",
    "accuracy_nums1 = [0, 0, 0, 0, 0, 0]\n",
    "accuracy1 = [0, 0, 0, 0, 0, 0]\n",
    "\n",
    "shuffled_index = np.arange(len(cifar_training_data))\n",
    "np.random.shuffle(shuffled_index)\n",
    "\n",
    "cifar_shuffled_data = [0] * 50000\n",
    "cifar_shuffled_labels = [0] * 50000\n",
    "\n",
    "for x in range(50000):\n",
    "    y = shuffled_index[x]\n",
    "    cifar_shuffled_data[x] = cifar_training_data[y].flatten()\n",
    "    cifar_shuffled_labels[x] = cifar_training_labels[y]\n",
    "\n",
    "cifar_validation_data = cifar_shuffled_data[:5000]\n",
    "cifar_validation_labels = cifar_shuffled_labels[:5000]\n",
    "cifar_shuffled_data = cifar_shuffled_data[5000:] \n",
    "cifar_shuffled_labels = cifar_shuffled_labels[5000:] \n",
    "\n",
    "train_nums2 = [100, 200, 500, 1000, 2000, 5000]\n",
    "accuracy_nums2 = [0, 0, 0, 0, 0, 0]\n",
    "accuracy2 = [0, 0, 0, 0, 0, 0]\n"
   ]
  },
  {
   "cell_type": "code",
   "execution_count": 2,
   "id": "08179cd9-abe6-4a7b-9027-c8c106675c92",
   "metadata": {},
   "outputs": [
    {
     "ename": "NameError",
     "evalue": "name 'train_nums' is not defined",
     "output_type": "error",
     "traceback": [
      "\u001b[0;31m---------------------------------------------------------------------------\u001b[0m",
      "\u001b[0;31mNameError\u001b[0m                                 Traceback (most recent call last)",
      "\u001b[0;32m/var/folders/3y/mmgj76q10bnb3vvxyvns_dmc0000gn/T/ipykernel_98627/2118079921.py\u001b[0m in \u001b[0;36m<module>\u001b[0;34m\u001b[0m\n\u001b[1;32m      1\u001b[0m \u001b[0mmnist_model\u001b[0m \u001b[0;34m=\u001b[0m \u001b[0msvm\u001b[0m\u001b[0;34m.\u001b[0m\u001b[0mSVC\u001b[0m\u001b[0;34m(\u001b[0m\u001b[0mkernel\u001b[0m\u001b[0;34m=\u001b[0m\u001b[0;34m'linear'\u001b[0m\u001b[0;34m)\u001b[0m\u001b[0;34m\u001b[0m\u001b[0;34m\u001b[0m\u001b[0m\n\u001b[0;32m----> 2\u001b[0;31m \u001b[0;32mfor\u001b[0m \u001b[0my\u001b[0m \u001b[0;32min\u001b[0m \u001b[0mrange\u001b[0m\u001b[0;34m(\u001b[0m\u001b[0mlen\u001b[0m\u001b[0;34m(\u001b[0m\u001b[0mtrain_nums\u001b[0m\u001b[0;34m)\u001b[0m\u001b[0;34m)\u001b[0m\u001b[0;34m:\u001b[0m\u001b[0;34m\u001b[0m\u001b[0;34m\u001b[0m\u001b[0m\n\u001b[0m\u001b[1;32m      3\u001b[0m     \u001b[0mdata_train\u001b[0m \u001b[0;34m=\u001b[0m \u001b[0mmnist_shuffled_data\u001b[0m\u001b[0;34m[\u001b[0m\u001b[0;34m:\u001b[0m\u001b[0mtrain_nums\u001b[0m\u001b[0;34m[\u001b[0m\u001b[0my\u001b[0m\u001b[0;34m]\u001b[0m\u001b[0;34m]\u001b[0m\u001b[0;34m\u001b[0m\u001b[0;34m\u001b[0m\u001b[0m\n\u001b[1;32m      4\u001b[0m     \u001b[0mlabels_train\u001b[0m \u001b[0;34m=\u001b[0m \u001b[0mmnist_shuffled_labels\u001b[0m\u001b[0;34m[\u001b[0m\u001b[0;34m:\u001b[0m\u001b[0mtrain_nums\u001b[0m\u001b[0;34m[\u001b[0m\u001b[0my\u001b[0m\u001b[0;34m]\u001b[0m\u001b[0;34m]\u001b[0m\u001b[0;34m\u001b[0m\u001b[0;34m\u001b[0m\u001b[0m\n\u001b[1;32m      5\u001b[0m     \u001b[0mmnist_model\u001b[0m\u001b[0;34m.\u001b[0m\u001b[0mfit\u001b[0m\u001b[0;34m(\u001b[0m\u001b[0mdata_train\u001b[0m\u001b[0;34m,\u001b[0m \u001b[0mlabels_train\u001b[0m\u001b[0;34m)\u001b[0m\u001b[0;34m\u001b[0m\u001b[0;34m\u001b[0m\u001b[0m\n",
      "\u001b[0;31mNameError\u001b[0m: name 'train_nums' is not defined"
     ]
    }
   ],
   "source": [
    "mnist_model = svm.SVC(kernel='linear')\n",
    "for y in range(len(train_nums)):\n",
    "    data_train = mnist_shuffled_data[:train_nums[y]]\n",
    "    labels_train = mnist_shuffled_labels[:train_nums[y]]\n",
    "    mnist_model.fit(data_train, labels_train)\n",
    "    test_labels = mnist_model.predict(mnist_validation_data)\n",
    "    test_labels1 = mnist_model.predict(data_train)\n",
    "    accuracy_nums[y] = metrics.accuracy_score(mnist_validation_labels, test_labels)\n",
    "    accuracy[y] = metrics.accuracy_score(labels_train, test_labels1)"
   ]
  },
  {
   "cell_type": "code",
   "execution_count": null,
   "id": "a2fe8fe5-988a-4082-85fb-0d6f9e61fb8d",
   "metadata": {},
   "outputs": [],
   "source": [
    "spam_model = svm.SVC(kernel='linear')\n",
    "for y in range(len(train_nums1)):\n",
    "    data_train = spam_shuffled_data[:train_nums1[y]]\n",
    "    labels_train = spam_shuffled_labels[:train_nums1[y]]\n",
    "    spam_model.fit(data_train, labels_train)\n",
    "    test_labels = spam_model.predict(spam_validation_data)\n",
    "    test_labels1 = spam_model.predict(data_train)\n",
    "    accuracy1[y] = metrics.accuracy_score(labels_train, test_labels1)\n",
    "    accuracy_nums1[y] = metrics.accuracy_score(spam_validation_labels, test_labels)"
   ]
  },
  {
   "cell_type": "code",
   "execution_count": null,
   "id": "3b7099e6-dc58-4c7b-86dd-40f2e10b9075",
   "metadata": {},
   "outputs": [],
   "source": [
    "cifar_model = svm.SVC(kernel='linear')\n",
    "for y in range(len(train_nums2)):\n",
    "    data_train = cifar_shuffled_data[:train_nums2[y]]\n",
    "    labels_train = cifar_shuffled_labels[:train_nums2[y]]\n",
    "    cifar_model.fit(data_train, labels_train)\n",
    "    test_labels = cifar_model.predict(cifar_validation_data)\n",
    "    test_labels1 = cifar_model.predict(data_train)\n",
    "    accuracy2[y] = metrics.accuracy_score(labels_train, test_labels1)\n",
    "    accuracy_nums2[y] = metrics.accuracy_score(cifar_validation_labels, test_labels)"
   ]
  },
  {
   "cell_type": "code",
   "execution_count": null,
   "id": "f0df571a-a76a-4bdd-9c0f-f11a6250049c",
   "metadata": {},
   "outputs": [],
   "source": [
    "plt.title(\"NMIST: Training data size vs Accuracy\") \n",
    "plt.xlabel(\"Training data size\") \n",
    "plt.ylabel(\"Accuracy\") \n",
    "plt.plot(train_nums, accuracy_nums, label = \"Validation Accuracy\")\n",
    "plt.plot(train_nums, accuracy, label = \"Training Accuracy\")\n",
    "plt.legend()\n",
    "plt.show()"
   ]
  },
  {
   "cell_type": "code",
   "execution_count": null,
   "id": "9803c525-b6b8-472b-9b1b-d1f3742b41ed",
   "metadata": {},
   "outputs": [],
   "source": [
    "plt.title(\"SPAM: Training data size vs Accuracy\") \n",
    "plt.xlabel(\"Training data size\") \n",
    "plt.ylabel(\"Accuracy\") \n",
    "plt.plot(train_nums1, accuracy_nums1, label = \"Validation Accuracy\")\n",
    "plt.plot(train_nums1, accuracy1, label = \"Training Accuracy\")\n",
    "plt.legend()\n",
    "plt.show()"
   ]
  },
  {
   "cell_type": "code",
   "execution_count": null,
   "id": "34f1d8cf-95cf-4c32-bdec-d0d151577a0f",
   "metadata": {},
   "outputs": [],
   "source": [
    "plt.title(\"CIFAR: Training data size vs Accuracy\") \n",
    "plt.xlabel(\"Training data size\") \n",
    "plt.ylabel(\"Accuracy\") \n",
    "plt.plot(train_nums2, accuracy_nums2, label = \"Validation Accuracy\")\n",
    "plt.plot(train_nums2, accuracy2, label = \"Training Accuracy\")\n",
    "plt.legend()\n",
    "plt.show()\n",
    "print(accuracy_nums2)"
   ]
  },
  {
   "cell_type": "code",
   "execution_count": 3,
   "id": "84948977-ef85-4784-972d-3af3be1b4826",
   "metadata": {},
   "outputs": [
    {
     "name": "stdout",
     "output_type": "stream",
     "text": [
      "[0.01, 0.015, 0.03375, 0.11390625000000001, 0.5766503906250001, 4.378938903808595, 49.87885095119478, 852.2269299239296]\n"
     ]
    }
   ],
   "source": [
    "c_init = .01\n",
    "rate = 1.5\n",
    "c = [0] * 8\n",
    "for x in range(1,9):\n",
    "    c[x-1] = c_init\n",
    "    c_init = c_init * (rate**(x))\n",
    "print(c)"
   ]
  },
  {
   "cell_type": "code",
   "execution_count": 12,
   "id": "ec507297-53d4-4ac5-9455-3e8fbb8828ff",
   "metadata": {},
   "outputs": [],
   "source": [
    "accuracy_nums = [0] * 8\n",
    "for x in range(8):\n",
    "    data_train = mnist_shuffled_data[:10000]\n",
    "    labels_train = mnist_shuffled_labels[:10000]\n",
    "    model = svm.SVC(C=c[x])\n",
    "    model.fit(data_train, labels_train)\n",
    "    test_labels = model.predict(mnist_validation_data)\n",
    "    test_labels1 = model.predict(data_train)\n",
    "    accuracy_nums[x] = metrics.accuracy_score(mnist_validation_labels, test_labels)"
   ]
  },
  {
   "cell_type": "code",
   "execution_count": 14,
   "id": "6842dc8f-29d0-43c6-b261-f098fa603f90",
   "metadata": {},
   "outputs": [
    {
     "data": {
      "image/png": "[encoded data removed]",
      "text/plain": [
       "<Figure size 640x480 with 1 Axes>"
      ]
     },
     "metadata": {},
     "output_type": "display_data"
    }
   ],
   "source": [
    "plt.title(\"C Value vs Accuracy\") \n",
    "plt.xlabel(\"C value\") \n",
    "plt.ylabel(\"Accuracy\") \n",
    "plt.plot(c, accuracy_nums)\n",
    "plt.show()"
   ]
  },
  {
   "cell_type": "code",
   "execution_count": 15,
   "id": "dc1d6cba-bcea-42db-9fca-0803a020ab74",
   "metadata": {},
   "outputs": [
    {
     "name": "stdout",
     "output_type": "stream",
     "text": [
      "[0.7889, 0.8656, 0.9042, 0.9342, 0.9569, 0.9671, 0.9671, 0.9671]\n"
     ]
    }
   ],
   "source": [
    "print(accuracy_nums)"
   ]
  },
  {
   "cell_type": "code",
   "execution_count": 5,
   "id": "55efb28e-8f3d-4ac2-a8a0-b0e1cc8d43bf",
   "metadata": {},
   "outputs": [
    {
     "name": "stdout",
     "output_type": "stream",
     "text": [
      "[1, 1.5, 3.375, 11.390625, 57.6650390625, 437.8938903808594, 4987.885095119476, 85222.69299239293]\n"
     ]
    }
   ],
   "source": [
    "c_init = 1\n",
    "rate = 1.5\n",
    "c = [0] * 8\n",
    "for x in range(1,9):\n",
    "    c[x-1] = c_init\n",
    "    c_init = c_init * (rate**(x))\n",
    "print(c)"
   ]
  },
  {
   "cell_type": "code",
   "execution_count": 6,
   "id": "a771975a-b865-4972-8c8d-5c79fc24d91f",
   "metadata": {},
   "outputs": [],
   "source": [
    "#K-Fold Cross-Validation\n",
    "shuffled_index = np.arange(len(spam_training_data))\n",
    "np.random.shuffle(shuffled_index)\n",
    "\n",
    "size = len(spam_training_data)\n",
    "set_size = size//5\n",
    "\n",
    "spam_shuffled_data = [0] * size\n",
    "spam_shuffled_labels = [0] * size\n",
    "\n",
    "for x in range(size):\n",
    "    y = shuffled_index[x]\n",
    "    spam_shuffled_data[x] = spam_training_data[y].flatten()\n",
    "    spam_shuffled_labels[x] = spam_training_labels[y]\n",
    "\n",
    "copy_data = spam_shuffled_data.copy()\n",
    "copy_labels = spam_shuffled_labels.copy()\n",
    "\n",
    "accuracy_list = [0] * 8\n",
    "\n",
    "for y in range(8):\n",
    "    \n",
    "    accuracy = 0\n",
    "    for x in range(5):\n",
    "\n",
    "        spam_shuffled_data = copy_data.copy()\n",
    "        spam_shuffled_labels = copy_labels.copy()\n",
    "\n",
    "        validation_data = copy_data[x*set_size:(x+1)*set_size]\n",
    "        validation_labels = copy_labels[x*set_size:(x+1)*set_size]\n",
    "\n",
    "        for x in range((x+1)*set_size, x*set_size, -1):\n",
    "            spam_shuffled_data.pop(x)\n",
    "            spam_shuffled_labels.pop(x)\n",
    "\n",
    "        data_train = spam_shuffled_data\n",
    "        labels_train = spam_shuffled_labels\n",
    "\n",
    "        model = svm.SVC(C = c[y])\n",
    "        model.fit(data_train, labels_train)\n",
    "        test_labels = model.predict(validation_data)\n",
    "        accuracy += metrics.accuracy_score(validation_labels, test_labels)\n",
    "\n",
    "    accuracy = accuracy/5\n",
    "    accuracy_list[y] = accuracy \n",
    "    \n"
   ]
  },
  {
   "cell_type": "code",
   "execution_count": 7,
   "id": "4bbbcca2-ab67-4e7b-b5be-94da760d95f9",
   "metadata": {},
   "outputs": [
    {
     "data": {
      "image/png": "[encoded data removed]",
      "text/plain": [
       "<Figure size 640x480 with 1 Axes>"
      ]
     },
     "metadata": {},
     "output_type": "display_data"
    },
    {
     "name": "stdout",
     "output_type": "stream",
     "text": [
      "[0.7810551558752998, 0.7836930455635491, 0.7973621103117506, 0.8064748201438849, 0.8151079136690648, 0.830695443645084, 0.8249400479616307, 0.824220623501199]\n"
     ]
    }
   ],
   "source": [
    "plt.title(\"NMIST: Training data size vs Accuracy\") \n",
    "plt.xlabel(\"Training data size\") \n",
    "plt.ylabel(\"Accuracy\") \n",
    "plt.plot(c, accuracy_list, label = \"Validation Accuracy\")\n",
    "plt.legend()\n",
    "plt.show()\n",
    "print(accuracy_list)"
   ]
  },
  {
   "cell_type": "code",
   "execution_count": 4,
   "id": "33c7cc36-d29f-47f3-93ac-3eba83742893",
   "metadata": {},
   "outputs": [],
   "source": [
    "def results_to_csv(y_test):\n",
    "    y_test = y_test.astype(int)\n",
    "    df = pd.DataFrame({'Category': y_test})\n",
    "    df.index += 1 # Ensures that the index starts at 1\n",
    "    df.to_csv('submission.csv', index_label='Id')\n"
   ]
  },
  {
   "cell_type": "code",
   "execution_count": 1,
   "id": "eb6f0a8a",
   "metadata": {},
   "outputs": [
    {
     "ename": "NameError",
     "evalue": "name 'svm' is not defined",
     "output_type": "error",
     "traceback": [
      "\u001b[0;31m---------------------------------------------------------------------------\u001b[0m",
      "\u001b[0;31mNameError\u001b[0m                                 Traceback (most recent call last)",
      "\u001b[0;32m/var/folders/3y/mmgj76q10bnb3vvxyvns_dmc0000gn/T/ipykernel_87664/226596930.py\u001b[0m in \u001b[0;36m<module>\u001b[0;34m\u001b[0m\n\u001b[0;32m----> 1\u001b[0;31m \u001b[0mmnist_model\u001b[0m \u001b[0;34m=\u001b[0m \u001b[0msvm\u001b[0m\u001b[0;34m.\u001b[0m\u001b[0mSVC\u001b[0m\u001b[0;34m(\u001b[0m\u001b[0mC\u001b[0m\u001b[0;34m=\u001b[0m\u001b[0;36m49.87\u001b[0m\u001b[0;34m)\u001b[0m\u001b[0;34m\u001b[0m\u001b[0;34m\u001b[0m\u001b[0m\n\u001b[0m\u001b[1;32m      2\u001b[0m \u001b[0mmnist_model\u001b[0m\u001b[0;34m.\u001b[0m\u001b[0mfit\u001b[0m\u001b[0;34m(\u001b[0m\u001b[0mmnist_shuffled_data\u001b[0m\u001b[0;34m,\u001b[0m \u001b[0mmnist_shuffled_labels\u001b[0m\u001b[0;34m)\u001b[0m\u001b[0;34m\u001b[0m\u001b[0;34m\u001b[0m\u001b[0m\n\u001b[1;32m      3\u001b[0m \u001b[0mmnist_pred\u001b[0m \u001b[0;34m=\u001b[0m \u001b[0mmnist_model\u001b[0m\u001b[0;34m.\u001b[0m\u001b[0mpredict\u001b[0m\u001b[0;34m(\u001b[0m\u001b[0mmnist_test_data_flattened\u001b[0m\u001b[0;34m)\u001b[0m\u001b[0;34m\u001b[0m\u001b[0;34m\u001b[0m\u001b[0m\n\u001b[1;32m      4\u001b[0m \u001b[0mprint\u001b[0m\u001b[0;34m(\u001b[0m\u001b[0mmnist_pred\u001b[0m\u001b[0;34m)\u001b[0m\u001b[0;34m\u001b[0m\u001b[0;34m\u001b[0m\u001b[0m\n\u001b[1;32m      5\u001b[0m \u001b[0mtest_labels\u001b[0m \u001b[0;34m=\u001b[0m \u001b[0mmnist_model\u001b[0m\u001b[0;34m.\u001b[0m\u001b[0mpredict\u001b[0m\u001b[0;34m(\u001b[0m\u001b[0mmnist_validation_data\u001b[0m\u001b[0;34m)\u001b[0m\u001b[0;34m\u001b[0m\u001b[0;34m\u001b[0m\u001b[0m\n",
      "\u001b[0;31mNameError\u001b[0m: name 'svm' is not defined"
     ]
    }
   ],
   "source": [
    "mnist_model = svm.SVC(C=49.87)\n",
    "mnist_model.fit(mnist_shuffled_data, mnist_shuffled_labels)\n",
    "mnist_pred = mnist_model.predict(mnist_test_data_flattened)\n",
    "print(mnist_pred)\n",
    "test_labels = mnist_model.predict(mnist_validation_data)\n",
    "print(metrics.accuracy_score(mnist_validation_labels, test_labels))"
   ]
  },
  {
   "cell_type": "code",
   "execution_count": 2,
   "id": "d15b5bd3-3e1f-4dfa-9837-71977c226f0a",
   "metadata": {},
   "outputs": [],
   "source": [
    "spam_model = svm.SVC(C=437.89)\n",
    "\n",
    "#K-Fold Cross-Validation\n",
    "shuffled_index = np.arange(len(spam_training_data))\n",
    "np.random.shuffle(shuffled_index)\n",
    "\n",
    "size = len(spam_training_data)\n",
    "set_size = size//5\n",
    "\n",
    "spam_shuffled_data = [0] * size\n",
    "spam_shuffled_labels = [0] * size\n",
    "\n",
    "for x in range(size):\n",
    "    y = shuffled_index[x]\n",
    "    spam_shuffled_data[x] = spam_training_data[y].flatten()\n",
    "    spam_shuffled_labels[x] = spam_training_labels[y]\n",
    "\n",
    "copy_data = spam_shuffled_data.copy()\n",
    "copy_labels = spam_shuffled_labels.copy()\n",
    "\n",
    "for x in range(5):\n",
    "\n",
    "        spam_shuffled_data = copy_data.copy()\n",
    "        spam_shuffled_labels = copy_labels.copy()\n",
    "\n",
    "        validation_data = copy_data[x*set_size:(x+1)*set_size]\n",
    "        validation_labels = copy_labels[x*set_size:(x+1)*set_size]\n",
    "\n",
    "        for x in range((x+1)*set_size, x*set_size, -1):\n",
    "            spam_shuffled_data.pop(x)\n",
    "            spam_shuffled_labels.pop(x)\n",
    "\n",
    "        data_train = spam_shuffled_data\n",
    "        labels_train = spam_shuffled_labels\n",
    "\n",
    "        spam_model.fit(data_train, labels_train)\n",
    "spam_pred = spam_model.predict(spam_test_data_flattened)"
   ]
  },
  {
   "cell_type": "code",
   "execution_count": 2,
   "id": "bfc672c9-12eb-4fee-87d4-8c054d4bf29f",
   "metadata": {},
   "outputs": [],
   "source": [
    "cifar_model = svm.SVC()\n",
    "cifar_model.fit(cifar_shuffled_data[:7000], cifar_shuffled_labels[:7000])\n",
    "cifar_pred = cifar_model.predict(cifar_test_data_flattened)"
   ]
  },
  {
   "cell_type": "code",
   "execution_count": 18,
   "id": "3a4a2d37-7e81-450f-9a44-251b8ed4f658",
   "metadata": {},
   "outputs": [],
   "source": [
    "results_to_csv(mnist_pred)"
   ]
  },
  {
   "cell_type": "code",
   "execution_count": 5,
   "id": "12ecc15b-2888-4137-b9de-b7e7f7348d6f",
   "metadata": {},
   "outputs": [],
   "source": [
    "results_to_csv(spam_pred)"
   ]
  },
  {
   "cell_type": "code",
   "execution_count": 5,
   "id": "9590fdf2-77e1-4112-8f94-7b3b168f1a02",
   "metadata": {},
   "outputs": [],
   "source": [
    "results_to_csv(cifar_pred)"
   ]
  },
  {
   "cell_type": "code",
   "execution_count": null,
   "id": "95dc2855-eb6b-4c00-b44f-ae68bd478341",
   "metadata": {},
   "outputs": [],
   "source": []
  }
 ],
 "metadata": {
  "kernelspec": {
   "display_name": "Python 3 (ipykernel)",
   "language": "python",
   "name": "python3"
  },
  "language_info": {
   "codemirror_mode": {
    "name": "ipython",
    "version": 3
   },
   "file_extension": ".py",
   "mimetype": "text/x-python",
   "name": "python",
   "nbconvert_exporter": "python",
   "pygments_lexer": "ipython3",
   "version": "3.9.13"
  },
  "vscode": {
   "interpreter": {
    "hash": "aee8b7b246df8f9039afb4144a1f6fd8d2ca17a180786b69acc140d282b71a49"
   }
  }
 },
 "nbformat": 4,
 "nbformat_minor": 5
}
